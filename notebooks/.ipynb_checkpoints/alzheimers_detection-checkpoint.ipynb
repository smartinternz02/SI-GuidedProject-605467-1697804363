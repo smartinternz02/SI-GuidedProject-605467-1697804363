{
 "cells": [
  {
   "cell_type": "code",
   "execution_count": 1,
   "metadata": {
    "id": "xdrr5DG42gyU"
   },
   "outputs": [],
   "source": [
    "import tensorflow as tf\n",
    "from tensorflow import keras\n",
    "from keras import layers\n",
    "from matplotlib import pyplot as plt\n",
    "import os\n",
    "import numpy as np\n",
    "from keras.preprocessing.image import ImageDataGenerator"
   ]
  },
  {
   "cell_type": "code",
   "execution_count": 2,
   "metadata": {
    "id": "d_sztWrl5YPB"
   },
   "outputs": [],
   "source": [
    "train_datagen=ImageDataGenerator(rescale=1./255)\n",
    "test_datagen=ImageDataGenerator(rescale=1./255)"
   ]
  },
  {
   "cell_type": "code",
   "execution_count": 3,
   "metadata": {
    "id": "Xx_JwT8YAMx2"
   },
   "outputs": [],
   "source": [
    "def list_directories_in_directory(directory_path):\n",
    "    try:\n",
    "        directory_list = []\n",
    "        if os.path.isdir(directory_path):\n",
    "            items = os.listdir(directory_path)\n",
    "            for item in items:\n",
    "                item_path = os.path.join(directory_path, item)\n",
    "                if os.path.isdir(item_path):\n",
    "                    directory_list.append(item)\n",
    "\n",
    "        return directory_list.sort()\n",
    "\n",
    "    except Exception as e:\n",
    "        print(f\"An error occurred: {str(e)}\")\n",
    "        return None"
   ]
  },
  {
   "cell_type": "code",
   "execution_count": 4,
   "metadata": {
    "id": "g5kAJrl2AT6M"
   },
   "outputs": [],
   "source": [
    "classNames=['MildDemented','ModerateDemented','NonDemented','VeryMildDemented']\n"
   ]
  },
  {
   "cell_type": "code",
   "execution_count": null,
   "metadata": {
    "id": "AXx40_Uo_5RL"
   },
   "outputs": [],
   "source": []
  },
  {
   "cell_type": "code",
   "execution_count": 5,
   "metadata": {
    "id": "HVt4GaT16evH"
   },
   "outputs": [
    {
     "name": "stdout",
     "output_type": "stream",
     "text": [
      "Found 1279 images belonging to 4 classes.\n"
     ]
    }
   ],
   "source": [
    "test=test_datagen.flow_from_directory(\"../dataset/test\",\n",
    "                                      classes=classNames,\n",
    "                                      color_mode=\"grayscale\",\n",
    "                                      class_mode=\"categorical\",\n",
    "                                      batch_size=32,\n",
    "                                      keep_aspect_ratio=True)"
   ]
  },
  {
   "cell_type": "code",
   "execution_count": 7,
   "metadata": {
    "id": "F1XmKlfhAVk-"
   },
   "outputs": [
    {
     "name": "stdout",
     "output_type": "stream",
     "text": [
      "Found 5121 images belonging to 4 classes.\n"
     ]
    }
   ],
   "source": [
    "train=train_datagen.flow_from_directory(\"../dataset/train\",\n",
    "                                      classes=classNames,\n",
    "                                      color_mode=\"grayscale\",\n",
    "                                      class_mode=\"categorical\",\n",
    "                                      batch_size=32,\n",
    "                                      keep_aspect_ratio=True)"
   ]
  },
  {
   "cell_type": "code",
   "execution_count": null,
   "metadata": {
    "id": "M251BF1Vd1a6"
   },
   "outputs": [],
   "source": [
    "1279/32"
   ]
  },
  {
   "cell_type": "markdown",
   "metadata": {
    "id": "ck-uWZiH634V"
   },
   "source": [
    "# Model Building"
   ]
  },
  {
   "cell_type": "code",
   "execution_count": 8,
   "metadata": {
    "id": "hoobHnlY6ACG"
   },
   "outputs": [],
   "source": [
    "model=keras.Sequential([\n",
    "    layers.Conv2D(filters=16,kernel_size=(4,4),activation='relu',use_bias=True,bias_initializer='random_normal'),\n",
    "    layers.MaxPool2D(strides=(1,1)),\n",
    "    layers.Conv2D(filters=32,kernel_size=(4,4),activation='relu',use_bias=True,bias_initializer='random_normal'),\n",
    "    layers.MaxPool2D(strides=(1,1)),\n",
    "    layers.Conv2D(filters=64,kernel_size=(4,4),activation='relu',use_bias=True,bias_initializer='random_normal'),\n",
    "    layers.MaxPool2D(strides=(1,1)),\n",
    "    layers.Dropout(rate=0.25),\n",
    "    layers.Flatten(),\n",
    "\n",
    "    layers.Dense(units=128,use_bias=True,bias_initializer='random_normal',activation='relu'),\n",
    "    layers.Dense(units=64,use_bias=True,bias_initializer='random_normal',activation='relu'),\n",
    "    layers.Dense(units=32,use_bias=True,bias_initializer='random_normal',activation='relu'),\n",
    "    layers.Dropout(rate=0.25),\n",
    "    layers.Dense(units=16,use_bias=True,bias_initializer='random_normal',activation='relu'),\n",
    "    layers.Dense(units=8,use_bias=True,bias_initializer='random_normal',activation='relu'),\n",
    "    layers.Dense(units=4,use_bias=True,bias_initializer='random_normal',activation='softmax')\n",
    "                       ])"
   ]
  },
  {
   "cell_type": "code",
   "execution_count": 9,
   "metadata": {
    "id": "nKJi-at2dBFw"
   },
   "outputs": [],
   "source": [
    "model.compile(loss=\"categorical_crossentropy\",optimizer=\"adam\",metrics=\"accuracy\")\n"
   ]
  },
  {
   "cell_type": "code",
   "execution_count": null,
   "metadata": {
    "id": "W5PGYpgYdUNn"
   },
   "outputs": [],
   "source": [
    "model.fit(train,steps_per_epoch=161,epochs=15,validation_data=test,validation_steps=40)"
   ]
  },
  {
   "cell_type": "code",
   "execution_count": null,
   "metadata": {
    "id": "bQrjZrludK75"
   },
   "outputs": [],
   "source": [
    "model.summary()"
   ]
  },
  {
   "cell_type": "markdown",
   "metadata": {
    "id": "iCeLDsOBZSk-"
   },
   "source": []
  },
  {
   "cell_type": "code",
   "execution_count": null,
   "metadata": {
    "id": "FUVkp5K76aCw"
   },
   "outputs": [],
   "source": [
    "a=0\n",
    "for classes in test:\n",
    "  for batches in classes:\n",
    "    for tensor in batches:\n",
    "      a=tensor\n",
    "      break\n",
    "    break\n",
    "  break"
   ]
  },
  {
   "cell_type": "code",
   "execution_count": null,
   "metadata": {
    "id": "anXF8TiB6iJZ"
   },
   "outputs": [],
   "source": [
    "def print_random_image(tensor):\n",
    "\n",
    "  img=tf.keras.utils.array_to_img(tensor)\n",
    "  plt.imshow(tensor)"
   ]
  },
  {
   "cell_type": "code",
   "execution_count": null,
   "metadata": {
    "id": "u80oc6aIXlC6"
   },
   "outputs": [],
   "source": []
  },
  {
   "cell_type": "code",
   "execution_count": null,
   "metadata": {
    "id": "tDIzC1LQ9tbM"
   },
   "outputs": [],
   "source": [
    "!ls"
   ]
  },
  {
   "cell_type": "code",
   "execution_count": null,
   "metadata": {
    "id": "2pMVCf2AAuj3"
   },
   "outputs": [],
   "source": [
    "!rm -rf test_visualisation/"
   ]
  },
  {
   "cell_type": "code",
   "execution_count": null,
   "metadata": {
    "id": "M3kVeH9WBKdc"
   },
   "outputs": [],
   "source": []
  }
 ],
 "metadata": {
  "colab": {
   "provenance": []
  },
  "kernelspec": {
   "display_name": "ML",
   "language": "python",
   "name": "ml"
  },
  "language_info": {
   "codemirror_mode": {
    "name": "ipython",
    "version": 3
   },
   "file_extension": ".py",
   "mimetype": "text/x-python",
   "name": "python",
   "nbconvert_exporter": "python",
   "pygments_lexer": "ipython3",
   "version": "3.10.6"
  }
 },
 "nbformat": 4,
 "nbformat_minor": 1
}
